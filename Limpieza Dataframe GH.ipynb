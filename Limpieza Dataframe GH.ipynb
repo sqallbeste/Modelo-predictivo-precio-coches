{
 "cells": [
  {
   "cell_type": "code",
   "execution_count": 2,
   "id": "1aad88e4-c077-4ebf-bbf8-df8b1d3cae56",
   "metadata": {},
   "outputs": [],
   "source": [
    "import pandas as pd\n",
    "import numpy as np \n",
    "import matplotlib.pyplot as plt\n",
    "import seaborn as sns\n",
    "from sklearn import linear_model\n",
    "from sklearn.model_selection import train_test_split\n",
    "from sklearn.metrics import mean_squared_error, r2_score\n",
    "\n",
    "import warnings\n",
    "warnings.simplefilter(action='ignore', category=FutureWarning)\n",
    "import warnings\n",
    "warnings.filterwarnings('ignore')"
   ]
  },
  {
   "cell_type": "code",
   "execution_count": null,
   "id": "fae97323-95ae-4ebd-8008-7c6fa4705426",
   "metadata": {
    "jupyter": {
     "source_hidden": true
    }
   },
   "outputs": [],
   "source": [
    "def limpieza_datos(df):\n",
    "\n",
    "## Quitamos nulos y duplicados\n",
    "    df = df.dropna()\n",
    "    df = df.drop_duplicates()\n",
    "    \n",
    "    ## Procedemos con las variables:    \n",
    "    #Año\n",
    "    df = df[df[\"Año\"] >=1900] ## Quitamos todos los coches con año inferior a 1900\n",
    "    df[\"Año\"] = df[\"Año\"].astype(\"int\") ## Pasamos todo a int\n",
    "    \n",
    "    #Potencia   \n",
    "    df.loc[df['Potencia'].str.len()>5, 'Potencia'] = \"10000\" ##Para cuando el string sea mayor a 5, que serán potencias con errores como \"caballos\" o 1,324,54    \n",
    "    df['Potencia'] = df['Potencia'].str.replace(',', '', regex=False) # Si hay comas que las quite, que luego da problemas\n",
    "    df['Potencia'] = df[\"Potencia\"].astype(float)\n",
    "    df['Potencia'] = round(df[\"Potencia\"])\n",
    "    df['Potencia'] = df[\"Potencia\"].astype(int)\n",
    "    df = df[df[\"Potencia\"] <1000] ##Quitamos coches con potencia superior a 1000\n",
    "    \n",
    "    #Puertas\n",
    "    df[\"Nº de puertas\"] = df[\"Nº de puertas\"].astype(\"float\")\n",
    "    df['Nº de puertas'] = round(df[\"Nº de puertas\"])\n",
    "    df[\"Nº de puertas\"] = df[\"Nº de puertas\"].astype(\"int\") ## Pasamos todo a int\n",
    "    df = df[(df['Nº de puertas'] >= 2) & (df['Nº de puertas'] <= 10)] ##Quitamos menor a 2 puertas y superiores a 10\n",
    "    \n",
    "    #Kilometros\n",
    "    df[\"km\"] = df[\"km\"].astype(\"int\") #Pasamos a int\n",
    "    df = df[df[\"km\"] <=1000000] ##Coches con mas de 1m de km fuera\n",
    "    \n",
    "    #Plazas\n",
    "    df[\"Plazas\"] = df[\"Plazas\"].astype(\"float\")\n",
    "    df['Plazas'] = round(df[\"Plazas\"])\n",
    "    df[\"Plazas\"] = df[\"Plazas\"].astype(\"int\") ##Pasamos a int\n",
    "    df = df[(df['Plazas'] >= 2) & (df['Plazas'] <= 10)] ##Quitamos menor a 2 plazas y superiores a 10\n",
    "    \n",
    "    #Puntuaciones y ventas las pasamos a int\n",
    "    df[\"Puntuacion\"] = df[\"Puntuacion\"].astype(\"float\")\n",
    "    df['Puntuacion'] = round(df[\"Puntuacion\"])\n",
    "    df[\"Puntuacion\"] = df[\"Puntuacion\"].astype(\"int\") ## Pasamos todo a int\n",
    "    df[\"Nº Ventas\"] = df[\"Nº Ventas\"].astype(\"int\") ## Pasamos todo a int\n",
    "    \n",
    "    #Eliminamos nº de valoraciones ya que no pudieron obtenerse correctamente\n",
    "    df = df.drop(columns=['Nº valoraciones'])\n",
    "    \n",
    "    #Transformaciones a la variable objetivo para pasar de string a int\n",
    "    df['Precio'] = df['Precio'].str.replace('.', '', regex=False) ##Quitamos puntos que molesten\n",
    "    df['Precio'] = df['Precio'].str.replace(',', '.', regex=False) # Cambiamos , por . para que pueda pasarlo a float\n",
    "    df['Precio']=df['Precio'].astype('float') ##Pasamos a float para las comas. Si pasamos directamente a int da error\n",
    "    df['Precio']=df['Precio'].astype('int') ##De float lo pasamos a int\n",
    "\n",
    "    return df"
   ]
  },
  {
   "cell_type": "code",
   "execution_count": 3,
   "id": "1cede34b-dad1-4dda-8ea1-088255484a0d",
   "metadata": {},
   "outputs": [],
   "source": [
    "#Importamos el DF con este formato en concreto para evitar alteraciones en los datos\n",
    "data = pd.read_csv('DatosSucios.csv', dtype={'Marca': 'object', 'Modelo': 'object', 'Año': 'float64', 'Potencia': 'object',\n",
    "                                             'Plazas': 'float64', 'Nº de puertas': 'float64', 'km': 'float64', 'Tipo de vehiculo': 'object',\n",
    "                                             'Combustible': 'object', 'Cambio': 'object', 'Comentarios': 'object', 'Nombre usuario': 'object',\n",
    "                                             'Puntuacion': 'float64', 'Nº valoraciones': 'float64', 'Nº ventas': 'float64', \n",
    "                                             'Ubicacion': 'object', 'Precio': 'object'})"
   ]
  },
  {
   "cell_type": "code",
   "execution_count": 271,
   "id": "c3ad9264-3fb5-4dff-87fb-a6847cf77083",
   "metadata": {},
   "outputs": [],
   "source": [
    "datos_limpios = limpieza_datos(data) ##Limpiamos datos"
   ]
  },
  {
   "cell_type": "code",
   "execution_count": 266,
   "id": "485a4447-b85d-4ff8-9548-4981fba55f4b",
   "metadata": {},
   "outputs": [],
   "source": [
    "datos_limpios.to_csv(\"MisDatosLimpios.csv\",index = False) #Los guardamos con el nombre deseado"
   ]
  }
 ],
 "metadata": {
  "kernelspec": {
   "display_name": "Python 3 (ipykernel)",
   "language": "python",
   "name": "python3"
  },
  "language_info": {
   "codemirror_mode": {
    "name": "ipython",
    "version": 3
   },
   "file_extension": ".py",
   "mimetype": "text/x-python",
   "name": "python",
   "nbconvert_exporter": "python",
   "pygments_lexer": "ipython3",
   "version": "3.11.7"
  }
 },
 "nbformat": 4,
 "nbformat_minor": 5
}
